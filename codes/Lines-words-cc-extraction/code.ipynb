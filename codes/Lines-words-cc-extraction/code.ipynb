{
 "cells": [
  {
   "cell_type": "code",
   "execution_count": 1,
   "metadata": {
    "id": "OOHMPhbcRmy8"
   },
   "outputs": [],
   "source": [
    "import os\n",
    "import cv2\n",
    "from PIL import Image\n",
    "import numpy as np\n",
    "import shutil"
   ]
  },
  {
   "cell_type": "code",
   "execution_count": 30,
   "metadata": {
    "id": "K3rdbyRmo19M"
   },
   "outputs": [],
   "source": [
    "# Variables for background and foreground\n",
    "bg_color, fg_color =  1,0"
   ]
  },
  {
   "cell_type": "code",
   "execution_count": 31,
   "metadata": {
    "id": "78qpoFmBRpXs"
   },
   "outputs": [],
   "source": [
    "# Delete output folders if they already exist\n",
    "def delete_folders():\n",
    "    for folder in [\"lines-1\", \"words-1\", \"cc-1\",\"lines-2\", \"words-2\", \"cc-2\"]:\n",
    "        if os.path.exists(folder):\n",
    "            shutil.rmtree(folder)"
   ]
  },
  {
   "cell_type": "code",
   "execution_count": 32,
   "metadata": {
    "id": "s_-sI9TsRuZ-"
   },
   "outputs": [],
   "source": [
    "# Create folders to store output images\n",
    "def create_folders():\n",
    "    os.makedirs(\"lines-1\", exist_ok=True)\n",
    "    os.makedirs(\"words-1\", exist_ok=True)\n",
    "    os.makedirs(\"cc-1\", exist_ok=True)\n",
    "    os.makedirs(\"lines-2\", exist_ok=True)\n",
    "    os.makedirs(\"words-2\", exist_ok=True)\n",
    "    os.makedirs(\"cc-2\", exist_ok=True)"
   ]
  },
  {
   "cell_type": "code",
   "execution_count": 33,
   "metadata": {
    "id": "zTNIz8WAR9wD"
   },
   "outputs": [],
   "source": [
    "# Read the image, convert to grayscale, and binarize it\n",
    "def read_and_binarize_image(image_path, threshold=127):\n",
    "    if not os.path.exists(image_path):\n",
    "        raise FileNotFoundError(f\"Image not found: {image_path}\")\n",
    "\n",
    "    image = cv2.imread(image_path)\n",
    "    gray_image = cv2.cvtColor(image, cv2.COLOR_BGR2GRAY)\n",
    "    _, binary_image = cv2.threshold(gray_image, threshold, 1, cv2.THRESH_BINARY)\n",
    "    return binary_image.tolist()"
   ]
  },
  {
   "cell_type": "code",
   "execution_count": 34,
   "metadata": {
    "id": "GfGpGA-KSAMn"
   },
   "outputs": [],
   "source": [
    "def save_grid_as_image(grid, filename):\n",
    "    array = np.array(grid, dtype=np.uint8) * 255\n",
    "    image = Image.fromarray(array)\n",
    "    image.save(filename)"
   ]
  },
  {
   "cell_type": "code",
   "execution_count": 35,
   "metadata": {
    "id": "2ObDQgwqSuFO"
   },
   "outputs": [],
   "source": [
    "# Flood-fill algorithm to find connected components\n",
    "def get_neighbouring_points(image, r, c):\n",
    "    stack = [(r, c)]\n",
    "    points = []\n",
    "\n",
    "    while stack:\n",
    "        x, y = stack.pop()\n",
    "\n",
    "        if image[x][y] != fg_color:\n",
    "            continue\n",
    "\n",
    "        image[x][y] = 2  # Mark the pixel as visited\n",
    "        points.append((x, y))\n",
    "\n",
    "        # Explore 8-connected neighbors\n",
    "        for i in range(-1, 2):\n",
    "            for j in range(-1, 2):\n",
    "                nx, ny = x + i, y + j\n",
    "                if 0 <= nx < len(image) and 0 <= ny < len(image[0]) and image[nx][ny] == fg_color:\n",
    "                    stack.append((nx, ny))\n",
    "\n",
    "    return points"
   ]
  },
  {
   "cell_type": "code",
   "execution_count": 36,
   "metadata": {
    "id": "4UDs_p91S0VO"
   },
   "outputs": [],
   "source": [
    "# Convert a set of points into a cropped binary image\n",
    "def convert_to_sub_image(points):\n",
    "    if not points:  # Handle empty input\n",
    "        return []\n",
    "\n",
    "    min_x = min(p[0] for p in points)\n",
    "    max_x = max(p[0] for p in points)\n",
    "    min_y = min(p[1] for p in points)\n",
    "    max_y = max(p[1] for p in points)\n",
    "\n",
    "    new_image = [[bg_color] * (max_y - min_y + 1) for _ in range(max_x - min_x + 1)]\n",
    "\n",
    "    for x, y in points:\n",
    "        new_image[x - min_x][y - min_y] = fg_color\n",
    "\n",
    "    return new_image"
   ]
  },
  {
   "cell_type": "code",
   "execution_count": 37,
   "metadata": {
    "id": "wxVNrsIjRzU_"
   },
   "outputs": [],
   "source": [
    "# Extract and save all connected components\n",
    "def export_connected_components(image_grid, folderName):\n",
    "    rows, cols = len(image_grid), len(image_grid[0])\n",
    "    components = []\n",
    "\n",
    "    for r in range(rows):\n",
    "        for c in range(cols):\n",
    "            if image_grid[r][c] == fg_color:\n",
    "                points = get_neighbouring_points(image_grid, r, c)\n",
    "                components.append(convert_to_sub_image(points))\n",
    "\n",
    "    # Save each connected component as an image\n",
    "    for idx, component in enumerate(components):\n",
    "        save_grid_as_image(component, f\"{folderName}/cc{idx + 1}.png\")"
   ]
  },
  {
   "cell_type": "code",
   "execution_count": 38,
   "metadata": {
    "id": "-eVup1FJSFyj"
   },
   "outputs": [],
   "source": [
    "# Extract lines based on row histograms\n",
    "def export_connected_lines(image_grid, folderName):\n",
    "    histogram = [sum(value != bg_color for value in row) for row in image_grid]\n",
    "    line_grids, start_index = [], None\n",
    "\n",
    "    for i, count in enumerate(histogram):\n",
    "        if count > 0 and start_index is None:  # Start of a new line\n",
    "            start_index = i\n",
    "        elif count == 0 and start_index is not None:  # End of the line\n",
    "            line_grids.append(image_grid[start_index:i])\n",
    "            start_index = None\n",
    "\n",
    "    if start_index is not None:  # Handle the last line\n",
    "        line_grids.append(image_grid[start_index:])\n",
    "\n",
    "    for idx, grid in enumerate(line_grids):\n",
    "        if len(grid) > 0:  # Ensure the grid is non-empty\n",
    "            save_grid_as_image(grid, f\"{folderName}/line{idx + 1}.png\")\n",
    "\n",
    "    return line_grids"
   ]
  },
  {
   "cell_type": "code",
   "execution_count": 39,
   "metadata": {
    "id": "rJunEMaLSXt9"
   },
   "outputs": [],
   "source": [
    "# Extract columns for word processing\n",
    "def get_column_histogram(image_grid):\n",
    "    rows = len(image_grid)\n",
    "    cols = len(image_grid[0]) if rows>0 else 0\n",
    "\n",
    "    return [sum(image_grid[row][col] != bg_color for row in range(len(image_grid))) for col in range(cols)]"
   ]
  },
  {
   "cell_type": "code",
   "execution_count": 40,
   "metadata": {
    "id": "SZlIsuiE9TON"
   },
   "outputs": [],
   "source": [
    "def export_words_from_lines(line_grids, folderName , space_threshold=5):\n",
    "    for line_idx, line_grid in enumerate(line_grids):\n",
    "        word_histogram = get_column_histogram(line_grid)\n",
    "        word_grids, start_col = [], None\n",
    "        consecutive_bg = 0  # To track consecutive background columns\n",
    "\n",
    "        for col, count in enumerate(word_histogram):\n",
    "            if count > 0:  # Foreground column\n",
    "                if start_col is None:  # Start of a new word\n",
    "                    start_col = col\n",
    "                consecutive_bg = 0  # Reset background counter\n",
    "            elif count == 0 and start_col is not None:  # Background column\n",
    "                consecutive_bg += 1\n",
    "                if consecutive_bg >= space_threshold:  # End of the word\n",
    "                    end_col = col - consecutive_bg + 1\n",
    "                    word_grids.append([[row[c] for c in range(start_col, end_col)] for row in line_grid])\n",
    "                    start_col = None  # Reset start column\n",
    "\n",
    "        # Handle the last word in the line if it doesn't end with enough background\n",
    "        if start_col is not None:\n",
    "            word_grids.append([[row[c] for c in range(start_col, len(line_grid[0]))] for row in line_grid])\n",
    "\n",
    "        # Save each word as an image\n",
    "        for word_idx, grid in enumerate(word_grids):\n",
    "            if len(grid) > 0 and len(grid[0]) > 0:  # Ensure non-empty grid\n",
    "                save_grid_as_image(grid, f\"{folderName}/line{line_idx + 1}_word{word_idx + 1}.png\")"
   ]
  },
  {
   "cell_type": "markdown",
   "metadata": {
    "id": "WBrvPYONTsaW"
   },
   "source": [
    "**Main Function**"
   ]
  },
  {
   "cell_type": "markdown",
   "metadata": {
    "id": "PPwLK9gaTyEA"
   },
   "source": [
    "=> Background_color = Black , Foreground_color = White"
   ]
  },
  {
   "cell_type": "code",
   "execution_count": 41,
   "metadata": {
    "id": "DxLDZ8w_wh-w"
   },
   "outputs": [],
   "source": [
    "delete_folders()\n",
    "create_folders()"
   ]
  },
  {
   "cell_type": "code",
   "execution_count": 42,
   "metadata": {
    "id": "AK7GWr3zTbxC"
   },
   "outputs": [],
   "source": [
    "# Main Execution - 1\n",
    "# background is black and foreground is white\n",
    "bg_color, fg_color =  0,1\n",
    "image_path = \"text-img-2.jpg\"\n",
    "binary_grid = read_and_binarize_image(image_path)\n",
    "\n",
    "\n",
    "line_grids = export_connected_lines(binary_grid, folderName=\"lines-1\")\n",
    "export_words_from_lines(line_grids,folderName=\"words-1\")\n",
    "export_connected_components(binary_grid,folderName=\"cc-1\")"
   ]
  },
  {
   "cell_type": "markdown",
   "metadata": {
    "id": "V8jNP_adULex"
   },
   "source": [
    "=> Background_color = White , Foreground_color = Black"
   ]
  },
  {
   "cell_type": "code",
   "execution_count": 43,
   "metadata": {
    "id": "0dx9Y23B6PpX"
   },
   "outputs": [],
   "source": [
    "# Main Execution - 2\n",
    "# background is white and foreground is black\n",
    "bg_color, fg_color =  1,0  # colors switched\n",
    "image_path_2 = \"text-img.jpg\"\n",
    "binary_grid_2 = read_and_binarize_image(image_path_2)\n",
    "\n",
    "line_grids = export_connected_lines(binary_grid_2,folderName=\"lines-2\")\n",
    "export_words_from_lines(line_grids,folderName=\"words-2\")\n",
    "export_connected_components(binary_grid_2,folderName=\"cc-2\")"
   ]
  },
  {
   "cell_type": "code",
   "execution_count": null,
   "metadata": {},
   "outputs": [],
   "source": []
  }
 ],
 "metadata": {
  "colab": {
   "provenance": []
  },
  "kernelspec": {
   "display_name": "base",
   "language": "python",
   "name": "python3"
  },
  "language_info": {
   "codemirror_mode": {
    "name": "ipython",
    "version": 3
   },
   "file_extension": ".py",
   "mimetype": "text/x-python",
   "name": "python",
   "nbconvert_exporter": "python",
   "pygments_lexer": "ipython3",
   "version": "3.11.5"
  }
 },
 "nbformat": 4,
 "nbformat_minor": 0
}
